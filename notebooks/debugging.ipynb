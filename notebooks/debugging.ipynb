{
 "cells": [
  {
   "cell_type": "code",
   "execution_count": 27,
   "id": "b095a809-596d-4306-9b96-857c9c347550",
   "metadata": {},
   "outputs": [],
   "source": [
    "import sys\n",
    "sys.path.append('../src/')\n",
    "\n",
    "import torch\n",
    "\n",
    "#from models.u_net import UNet\n",
    "from models.unet import UNet\n",
    "from torchsummary import summary"
   ]
  },
  {
   "cell_type": "code",
   "execution_count": 28,
   "id": "cfd8991f-d150-44b5-930a-fbd51fde9f28",
   "metadata": {},
   "outputs": [
    {
     "name": "stdout",
     "output_type": "stream",
     "text": [
      "----------------------------------------------------------------\n",
      "        Layer (type)               Output Shape         Param #\n",
      "================================================================\n",
      "            Conv2d-1         [-1, 32, 256, 256]             320\n",
      "              ReLU-2         [-1, 32, 256, 256]               0\n",
      "       BatchNorm2d-3         [-1, 32, 256, 256]              64\n",
      "            Conv2d-4         [-1, 32, 256, 256]           9,248\n",
      "              ReLU-5         [-1, 32, 256, 256]               0\n",
      "       BatchNorm2d-6         [-1, 32, 256, 256]              64\n",
      "         MaxPool2d-7         [-1, 32, 128, 128]               0\n",
      "         DownBlock-8  [[-1, 32, 128, 128], [-1, 32, 256, 256]]               0\n",
      "            Conv2d-9         [-1, 64, 128, 128]          18,496\n",
      "             ReLU-10         [-1, 64, 128, 128]               0\n",
      "      BatchNorm2d-11         [-1, 64, 128, 128]             128\n",
      "           Conv2d-12         [-1, 64, 128, 128]          36,928\n",
      "             ReLU-13         [-1, 64, 128, 128]               0\n",
      "      BatchNorm2d-14         [-1, 64, 128, 128]             128\n",
      "        MaxPool2d-15           [-1, 64, 64, 64]               0\n",
      "        DownBlock-16  [[-1, 64, 64, 64], [-1, 64, 128, 128]]               0\n",
      "           Conv2d-17          [-1, 128, 64, 64]          73,856\n",
      "             ReLU-18          [-1, 128, 64, 64]               0\n",
      "      BatchNorm2d-19          [-1, 128, 64, 64]             256\n",
      "           Conv2d-20          [-1, 128, 64, 64]         147,584\n",
      "             ReLU-21          [-1, 128, 64, 64]               0\n",
      "      BatchNorm2d-22          [-1, 128, 64, 64]             256\n",
      "        MaxPool2d-23          [-1, 128, 32, 32]               0\n",
      "        DownBlock-24  [[-1, 128, 32, 32], [-1, 128, 64, 64]]               0\n",
      "           Conv2d-25          [-1, 256, 32, 32]         295,168\n",
      "             ReLU-26          [-1, 256, 32, 32]               0\n",
      "      BatchNorm2d-27          [-1, 256, 32, 32]             512\n",
      "           Conv2d-28          [-1, 256, 32, 32]         590,080\n",
      "             ReLU-29          [-1, 256, 32, 32]               0\n",
      "      BatchNorm2d-30          [-1, 256, 32, 32]             512\n",
      "        DownBlock-31  [[-1, 256, 32, 32], [-1, 256, 32, 32]]               0\n",
      "  ConvTranspose2d-32          [-1, 128, 64, 64]         131,200\n",
      "             ReLU-33          [-1, 128, 64, 64]               0\n",
      "      BatchNorm2d-34          [-1, 128, 64, 64]             256\n",
      "      Concatenate-35          [-1, 256, 64, 64]               0\n",
      "           Conv2d-36          [-1, 128, 64, 64]         295,040\n",
      "             ReLU-37          [-1, 128, 64, 64]               0\n",
      "      BatchNorm2d-38          [-1, 128, 64, 64]             256\n",
      "           Conv2d-39          [-1, 128, 64, 64]         147,584\n",
      "             ReLU-40          [-1, 128, 64, 64]               0\n",
      "      BatchNorm2d-41          [-1, 128, 64, 64]             256\n",
      "          UpBlock-42          [-1, 128, 64, 64]               0\n",
      "  ConvTranspose2d-43         [-1, 64, 128, 128]          32,832\n",
      "             ReLU-44         [-1, 64, 128, 128]               0\n",
      "      BatchNorm2d-45         [-1, 64, 128, 128]             128\n",
      "      Concatenate-46        [-1, 128, 128, 128]               0\n",
      "           Conv2d-47         [-1, 64, 128, 128]          73,792\n",
      "             ReLU-48         [-1, 64, 128, 128]               0\n",
      "      BatchNorm2d-49         [-1, 64, 128, 128]             128\n",
      "           Conv2d-50         [-1, 64, 128, 128]          36,928\n",
      "             ReLU-51         [-1, 64, 128, 128]               0\n",
      "      BatchNorm2d-52         [-1, 64, 128, 128]             128\n",
      "          UpBlock-53         [-1, 64, 128, 128]               0\n",
      "  ConvTranspose2d-54         [-1, 32, 256, 256]           8,224\n",
      "             ReLU-55         [-1, 32, 256, 256]               0\n",
      "      BatchNorm2d-56         [-1, 32, 256, 256]              64\n",
      "      Concatenate-57         [-1, 64, 256, 256]               0\n",
      "           Conv2d-58         [-1, 32, 256, 256]          18,464\n",
      "             ReLU-59         [-1, 32, 256, 256]               0\n",
      "      BatchNorm2d-60         [-1, 32, 256, 256]              64\n",
      "           Conv2d-61         [-1, 32, 256, 256]           9,248\n",
      "             ReLU-62         [-1, 32, 256, 256]               0\n",
      "      BatchNorm2d-63         [-1, 32, 256, 256]              64\n",
      "          UpBlock-64         [-1, 32, 256, 256]               0\n",
      "           Conv2d-65          [-1, 2, 256, 256]              66\n",
      "================================================================\n",
      "Total params: 1,928,322\n",
      "Trainable params: 1,928,322\n",
      "Non-trainable params: 0\n",
      "----------------------------------------------------------------\n",
      "Input size (MB): 0.25\n",
      "Forward/backward pass size (MB): 11533812.00\n",
      "Params size (MB): 7.36\n",
      "Estimated Total Size (MB): 11533819.61\n",
      "----------------------------------------------------------------\n"
     ]
    }
   ],
   "source": [
    "# inspect model before training\n",
    "device = torch.device(\"cuda\" if torch.cuda.is_available() else \"cpu\") # PyTorch v0.4.0\n",
    "\n",
    "model = UNet().to(device)\n",
    "summary(model, (1, 256, 256))"
   ]
  },
  {
   "cell_type": "code",
   "execution_count": null,
   "id": "5bb76ce3-f9fc-46bc-aaf2-1c7a088c87e6",
   "metadata": {},
   "outputs": [],
   "source": []
  }
 ],
 "metadata": {
  "kernelspec": {
   "display_name": "Registration1",
   "language": "python",
   "name": "registration1"
  },
  "language_info": {
   "codemirror_mode": {
    "name": "ipython",
    "version": 3
   },
   "file_extension": ".py",
   "mimetype": "text/x-python",
   "name": "python",
   "nbconvert_exporter": "python",
   "pygments_lexer": "ipython3",
   "version": "3.6.13"
  }
 },
 "nbformat": 4,
 "nbformat_minor": 5
}
