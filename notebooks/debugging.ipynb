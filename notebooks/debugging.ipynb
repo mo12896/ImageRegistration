{
 "cells": [
  {
   "cell_type": "code",
   "execution_count": 27,
   "id": "b095a809-596d-4306-9b96-857c9c347550",
   "metadata": {},
   "outputs": [],
   "source": [
    "import sys\n",
    "sys.path.append('../src/')\n",
    "\n",
    "import torch\n",
    "import os\n",
    "\n",
    "#from models.u_net import UNet\n",
    "from models.unet import UNet\n",
    "from data.dataset import DatasetHandler\n",
    "from torch.utils.data import DataLoader\n",
    "from sklearn.model_selection import train_test_split\n",
    "\n",
    "from torchsummary import summary\n",
    "import torchvision.transforms as transforms\n",
    "from features.tensor_transforms import Create2D, Rescale, AddChannel, NormalizeSample\n"
   ]
  },
  {
   "cell_type": "code",
   "execution_count": 28,
   "id": "223c3407-fbab-4fd0-b84a-a2f8593b1bd5",
   "metadata": {},
   "outputs": [],
   "source": [
    "# constants\n",
    "DATASET_PATH = '../data/raw/EMPIRE10/scans/'\n",
    "DATA_OUT_s = '/home/moritz/Thesis/ImageRegistration/data/interim/EMPIRE10/scans/'\n",
    "DATA_OUT_m = '/home/moritz/Thesis/ImageRegistration/data/interim/EMPIRE10/masks/'"
   ]
  },
  {
   "cell_type": "code",
   "execution_count": 46,
   "id": "98512a96-25e5-4e27-9300-9e664db3421b",
   "metadata": {},
   "outputs": [
    {
     "name": "stdout",
     "output_type": "stream",
     "text": [
      "<data.dataset.DatasetHandler object at 0x7ff1612d3ac8>\n"
     ]
    }
   ],
   "source": [
    "filename = list(set([x.split('_')[0]\n",
    "                     for x in os.listdir(DATASET_PATH)]))\n",
    "partition = {}\n",
    "partition['train'], partition['validation'] = train_test_split(\n",
    "    filename, test_size=0.33, random_state=42)\n",
    "\n",
    "shape=(256, 256)\n",
    "transform = transforms.Compose([\n",
    "    # Data Preprocessing\n",
    "    Create2D('y'),\n",
    "    AddChannel(axs=0),\n",
    "    Rescale(shape)\n",
    "])\n",
    "# Generators\n",
    "training_set = DatasetHandler(partition['train'], dataset='EMPIRE10', task='SEG', transform=transform)\n",
    "print(training_set)\n",
    "batch_size=1\n",
    "training_loader = DataLoader(training_set, batch_size=batch_size,\n",
    "\t\t                                shuffle=True, pin_memory=True)"
   ]
  },
  {
   "cell_type": "code",
   "execution_count": 47,
   "id": "cfd8991f-d150-44b5-930a-fbd51fde9f28",
   "metadata": {},
   "outputs": [],
   "source": [
    "# inspect model before training\n",
    "device = torch.device(\"cuda\" if torch.cuda.is_available() else \"cpu\") # PyTorch v0.4.0\n",
    "\n",
    "model = UNet().to(device)\n",
    "#summary(model, (1, 256, 256))"
   ]
  },
  {
   "cell_type": "code",
   "execution_count": 48,
   "id": "2207ed28-f326-4cb1-b238-35fecd322f01",
   "metadata": {},
   "outputs": [],
   "source": [
    "x = next(iter(training_loader))"
   ]
  },
  {
   "cell_type": "code",
   "execution_count": 52,
   "id": "e2057b3b-aaa0-43ff-8197-6f155eadae54",
   "metadata": {},
   "outputs": [
    {
     "data": {
      "text/plain": [
       "torch.Size([1, 1, 256, 256])"
      ]
     },
     "execution_count": 52,
     "metadata": {},
     "output_type": "execute_result"
    }
   ],
   "source": [
    "x[0].shape"
   ]
  },
  {
   "cell_type": "code",
   "execution_count": 54,
   "id": "5bb76ce3-f9fc-46bc-aaf2-1c7a088c87e6",
   "metadata": {},
   "outputs": [
    {
     "name": "stdout",
     "output_type": "stream",
     "text": [
      "tensor([[[[ 0.6357, -1.8255, -0.3746,  ...,  1.1868,  1.0994, -3.0785],\n",
      "          [ 0.6277,  0.1224, -1.6530,  ...,  1.5565,  0.8988,  0.8130],\n",
      "          [-0.4170,  0.6666,  2.9042,  ...,  1.0904,  2.5925, -0.9383],\n",
      "          ...,\n",
      "          [ 0.0295, -1.7753,  0.3134,  ...,  3.1066,  2.5544,  2.7600],\n",
      "          [ 0.5279,  0.5976,  0.9219,  ...,  1.8221,  2.7884,  4.3149],\n",
      "          [ 1.1848,  1.7974,  2.5711,  ...,  0.7229,  1.5082, -0.2726]]]],\n",
      "       device='cuda:0')\n"
     ]
    }
   ],
   "source": [
    "#x = torch.randn(size=(1, 1, 512, 512), dtype=torch.float32).to(device)\n",
    "#print()\n",
    "with torch.no_grad():\n",
    "    out = model(x[0].to(device))\n",
    "print(out)"
   ]
  },
  {
   "cell_type": "code",
   "execution_count": null,
   "id": "47bba2a5-0af7-42e2-9923-f4e9abf0d5a7",
   "metadata": {},
   "outputs": [],
   "source": []
  },
  {
   "cell_type": "code",
   "execution_count": null,
   "id": "6e06bbc4-cef6-4dc0-a0dd-fe1717655604",
   "metadata": {},
   "outputs": [],
   "source": []
  }
 ],
 "metadata": {
  "kernelspec": {
   "display_name": "Registration1",
   "language": "python",
   "name": "registration1"
  },
  "language_info": {
   "codemirror_mode": {
    "name": "ipython",
    "version": 3
   },
   "file_extension": ".py",
   "mimetype": "text/x-python",
   "name": "python",
   "nbconvert_exporter": "python",
   "pygments_lexer": "ipython3",
   "version": "3.6.13"
  }
 },
 "nbformat": 4,
 "nbformat_minor": 5
}
