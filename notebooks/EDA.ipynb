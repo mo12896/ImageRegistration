{
 "cells": [
  {
   "cell_type": "code",
   "execution_count": 1,
   "id": "a58f96e9-a9e5-4b61-b6ff-892feb6efb59",
   "metadata": {},
   "outputs": [
    {
     "name": "stderr",
     "output_type": "stream",
     "text": [
      "/home/moritz/anaconda3/envs/Registration/lib/python3.6/site-packages/tqdm/auto.py:22: TqdmWarning: IProgress not found. Please update jupyter and ipywidgets. See https://ipywidgets.readthedocs.io/en/stable/user_install.html\n",
      "  from .autonotebook import tqdm as notebook_tqdm\n"
     ]
    },
    {
     "ename": "ImportError",
     "evalue": "cannot import name 'DatasetHandler'",
     "output_type": "error",
     "traceback": [
      "\u001b[0;31m---------------------------------------------------------------------------\u001b[0m",
      "\u001b[0;31mImportError\u001b[0m                               Traceback (most recent call last)",
      "\u001b[0;32m<ipython-input-1-8be0853cdc64>\u001b[0m in \u001b[0;36m<module>\u001b[0;34m\u001b[0m\n\u001b[1;32m     11\u001b[0m \u001b[0;32mfrom\u001b[0m \u001b[0mtransforms\u001b[0m\u001b[0;34m.\u001b[0m\u001b[0mtensor_transforms\u001b[0m \u001b[0;32mimport\u001b[0m \u001b[0mCreate2D\u001b[0m\u001b[0;34m,\u001b[0m \u001b[0mRescale\u001b[0m\u001b[0;34m,\u001b[0m \u001b[0mAddChannel\u001b[0m\u001b[0;34m,\u001b[0m \u001b[0mNormalizeSample\u001b[0m\u001b[0;34m\u001b[0m\u001b[0;34m\u001b[0m\u001b[0m\n\u001b[1;32m     12\u001b[0m \u001b[0;34m\u001b[0m\u001b[0m\n\u001b[0;32m---> 13\u001b[0;31m \u001b[0;32mfrom\u001b[0m \u001b[0mdata\u001b[0m\u001b[0;34m.\u001b[0m\u001b[0mdataset\u001b[0m \u001b[0;32mimport\u001b[0m \u001b[0mDatasetHandler\u001b[0m\u001b[0;34m\u001b[0m\u001b[0;34m\u001b[0m\u001b[0m\n\u001b[0m\u001b[1;32m     14\u001b[0m \u001b[0;32mfrom\u001b[0m \u001b[0mtorch\u001b[0m\u001b[0;34m.\u001b[0m\u001b[0mutils\u001b[0m\u001b[0;34m.\u001b[0m\u001b[0mdata\u001b[0m \u001b[0;32mimport\u001b[0m \u001b[0mDataLoader\u001b[0m\u001b[0;34m\u001b[0m\u001b[0;34m\u001b[0m\u001b[0m\n\u001b[1;32m     15\u001b[0m \u001b[0;32mfrom\u001b[0m \u001b[0mdata\u001b[0m\u001b[0;34m.\u001b[0m\u001b[0mEmpire10\u001b[0m \u001b[0;32mimport\u001b[0m \u001b[0mread_image\u001b[0m\u001b[0;34m,\u001b[0m \u001b[0mread_raw\u001b[0m\u001b[0;34m\u001b[0m\u001b[0;34m\u001b[0m\u001b[0m\n",
      "\u001b[0;31mImportError\u001b[0m: cannot import name 'DatasetHandler'"
     ]
    }
   ],
   "source": [
    "import sys\n",
    "sys.path.append('../src/')\n",
    "\n",
    "import SimpleITK as sitk\n",
    "import os\n",
    "%matplotlib inline\n",
    "import matplotlib.pyplot as plt\n",
    "from sklearn.model_selection import train_test_split\n",
    "import torch\n",
    "import torchvision.transforms as transforms\n",
    "from transforms.tensor_transforms import Create2D, Rescale, AddChannel, NormalizeSample\n",
    "\n",
    "from data.dataset import DatasetHandler\n",
    "from torch.utils.data import DataLoader\n",
    "from data.Empire10 import read_image, read_raw\n",
    "from utils.visualization import *"
   ]
  },
  {
   "cell_type": "code",
   "execution_count": null,
   "id": "683e088e-77de-466b-95a5-b4e3b778ea8a",
   "metadata": {},
   "outputs": [],
   "source": [
    "# constants\n",
    "DATASET_PATH = '../data/raw/EMPIRE10/scans/'\n",
    "DATA_OUT_s = '/home/moritz/Thesis/ImageRegistration/data/interim/EMPIRE10/scans/'\n",
    "DATA_OUT_m = '/home/moritz/Thesis/ImageRegistration/data/interim/EMPIRE10/masks/'"
   ]
  },
  {
   "cell_type": "code",
   "execution_count": null,
   "id": "50bde2ef-07c1-4f63-bc96-54c02eae6f14",
   "metadata": {},
   "outputs": [],
   "source": [
    "#plt.imshow(sitk.GetArrayViewFromImage(img))\n",
    "im = DATA_OUT_s + \"27_Fixed.nii\"\n",
    "nii = 'NiftiImageIO'\n",
    "im_out = read_image(im, nii)\n",
    "showITKImage(im_out)"
   ]
  },
  {
   "cell_type": "code",
   "execution_count": null,
   "id": "ef87f2b8-f428-4d8f-b1f2-f5ce87635464",
   "metadata": {},
   "outputs": [],
   "source": [
    "filename = list(set([x.split('_')[0]\n",
    "                     for x in os.listdir(DATASET_PATH)]))\n",
    "print(filename)"
   ]
  },
  {
   "cell_type": "code",
   "execution_count": null,
   "id": "ca227f15-ad2b-42c6-bc26-831c3b0a69a0",
   "metadata": {
    "tags": []
   },
   "outputs": [],
   "source": [
    "def img_plotter(training_set, cols, rows):\n",
    "    fig = plt.figure(figsize=(10, 100))\n",
    "    columns = cols\n",
    "    rows = rows\n",
    "    counter = 1\n",
    "    for i in range(1, rows +1):\n",
    "        for n in range(2):\n",
    "            img = training_set[i-1][n].view(training_set[i-1][n].shape[1], training_set[i-1][n].shape[2], 1)\n",
    "            fig.add_subplot(rows, columns, counter)\n",
    "            plt.imshow(img)\n",
    "            plt.title(training_set[i-1][2])\n",
    "            counter += 1\n",
    "    plt.show()"
   ]
  },
  {
   "cell_type": "code",
   "execution_count": null,
   "id": "02fa282a-87c6-4ebd-b6a0-340e541cf2f9",
   "metadata": {},
   "outputs": [],
   "source": [
    "a = torch.randn(2, 3, 3)\n",
    "a[1,:,:].std()"
   ]
  },
  {
   "cell_type": "markdown",
   "id": "a8c85432-eab7-4c85-baee-e6767002cb3f",
   "metadata": {},
   "source": [
    "x_smallest = 1000000\n",
    "y_smallest = 1000000\n",
    "\n",
    "for image_pair in training_set:\n",
    "    for image in image_pair:\n",
    "        if not isinstance(image, str):\n",
    "            current_x, current_y = image.shape[0], image.shape[1]\n",
    "            if current_x < x_smallest:\n",
    "                x_smallest = current_x\n",
    "            if current_y < y_smallest:\n",
    "                y_smallest = current_y\n",
    "\n",
    "print(x_smallest, y_smallest)\n",
    "# 97 270"
   ]
  },
  {
   "cell_type": "markdown",
   "id": "2249a5e0-e373-4fe0-9632-c78a342de05c",
   "metadata": {},
   "source": [
    "maxi = 0\n",
    "mini = 1000000\n",
    "\n",
    "for image_pair in training_set:\n",
    "    for image in image_pair:\n",
    "        if not isinstance(image, str):\n",
    "            current_max, current_min = image.max(), image.min()\n",
    "            if current_max > maxi:\n",
    "                maxi = current_max\n",
    "            if current_min < mini:\n",
    "                mini = current_min\n",
    "\n",
    "print(maxi, mini)\n",
    "# tensor(0.9686) tensor(0.0196)"
   ]
  },
  {
   "cell_type": "code",
   "execution_count": null,
   "id": "06ea2626-b4b6-4f8b-8c60-99990564740d",
   "metadata": {},
   "outputs": [],
   "source": [
    "shape=(97, 97)\n",
    "transform = transforms.Compose([\n",
    "    # Data Preprocessing\n",
    "    Create2D('y'),\n",
    "    AddChannel(axs=0),\n",
    "    Rescale(shape)\n",
    "])"
   ]
  },
  {
   "cell_type": "code",
   "execution_count": null,
   "id": "7933aaae-afce-42e7-b9a1-d54b665626bd",
   "metadata": {},
   "outputs": [],
   "source": [
    "partition = {}\n",
    "partition['train'], partition['validation'] = train_test_split(\n",
    "    filename, test_size=0.33, random_state=42)\n",
    "\n",
    "# Generators\n",
    "training_set = DatasetHandler(partition['train'], dataset='EMPIRE10', task='SEG', transform=transform)\n",
    "print(training_set)"
   ]
  },
  {
   "cell_type": "code",
   "execution_count": null,
   "id": "427f872e-5a76-4636-96c9-93a76902bfd1",
   "metadata": {},
   "outputs": [],
   "source": [
    "for i, batch in enumerate(training_set):\n",
    "    print(batch[0].shape)"
   ]
  },
  {
   "cell_type": "code",
   "execution_count": null,
   "id": "4fddc03f-adbc-4006-9143-0b7776409a7a",
   "metadata": {},
   "outputs": [],
   "source": [
    "fig = plt.figure(figsize=(10, 100))\n",
    "columns = 2\n",
    "rows = 1\n",
    "sample = 7\n",
    "for n in range(2):\n",
    "    img = training_set[sample][n].view(training_set[sample][n].shape[1], training_set[sample][n].shape[2], 1)\n",
    "    fig.add_subplot(rows, columns, n+1)\n",
    "    plt.imshow(img)\n",
    "    plt.title(training_set[sample][2])"
   ]
  },
  {
   "cell_type": "code",
   "execution_count": null,
   "id": "7431263b-2210-4b03-9003-7a6870327a41",
   "metadata": {},
   "outputs": [],
   "source": [
    "#img_plotter(training_set, 2, 20)"
   ]
  },
  {
   "cell_type": "code",
   "execution_count": null,
   "id": "c977313e-ea93-49bf-b10b-16eba27cf5d3",
   "metadata": {},
   "outputs": [],
   "source": [
    "batch_size=2\n",
    "training_loader = DataLoader(training_set, batch_size=batch_size,\n",
    "\t\t                                shuffle=True, pin_memory=True)"
   ]
  },
  {
   "cell_type": "code",
   "execution_count": null,
   "id": "1cba7df3-76f6-4f89-b43a-f43333b2b862",
   "metadata": {},
   "outputs": [],
   "source": [
    "work on transforms to make this work!\n",
    "for i, batch in enumerate(training_loader):\n",
    "    if i == 0:\n",
    "        #images, labels, _ = batch\n",
    "        fig = plt.figure(figsize=(10, 100))\n",
    "        columns = 2\n",
    "        rows = 4\n",
    "        counter = 1\n",
    "        for i in range(1, rows +1):\n",
    "            for n in range(2):\n",
    "                img = batch[n][i-1].view(batch[n][i-1].shape[1], batch[n][i-1].shape[2], 1)\n",
    "                fig.add_subplot(rows, columns, counter)\n",
    "                plt.imshow(img)\n",
    "                plt.title(training_set[i-1][2])\n",
    "                counter += 1\n",
    "        plt.show()"
   ]
  },
  {
   "cell_type": "code",
   "execution_count": null,
   "id": "21b3f905-fd7b-4647-9b72-4ffefd9b16ad",
   "metadata": {},
   "outputs": [],
   "source": [
    "for i, batch in enumerate(training_loader):\n",
    "    print(batch[0][0])"
   ]
  },
  {
   "cell_type": "code",
   "execution_count": null,
   "id": "8ada94f1-1d01-4957-ab7d-5d75b2ad9aeb",
   "metadata": {},
   "outputs": [],
   "source": []
  }
 ],
 "metadata": {
  "kernelspec": {
   "display_name": "Registration1",
   "language": "python",
   "name": "registration1"
  },
  "language_info": {
   "codemirror_mode": {
    "name": "ipython",
    "version": 3
   },
   "file_extension": ".py",
   "mimetype": "text/x-python",
   "name": "python",
   "nbconvert_exporter": "python",
   "pygments_lexer": "ipython3",
   "version": "3.6.13"
  }
 },
 "nbformat": 4,
 "nbformat_minor": 5
}
